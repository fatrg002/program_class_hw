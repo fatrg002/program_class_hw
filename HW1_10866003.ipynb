{
 "cells": [
  {
   "cell_type": "markdown",
   "metadata": {
    "id": "-t6-RusQPl1Q"
   },
   "source": [
    "1.星形圖案"
   ]
  },
  {
   "cell_type": "code",
   "execution_count": null,
   "metadata": {
    "colab": {
     "base_uri": "https://localhost:8080/",
     "height": 225
    },
    "id": "zX_QqDSOPllQ",
    "outputId": "8cc2e933-e209-4244-e27f-51efe7c7c844"
   },
   "outputs": [],
   "source": [
    "n = eval(input('Input number :'))\n",
    "for i in range(n):\n",
    "    \n",
    "    for j in range(n-1-i):\n",
    "        print(' ',end='')\n",
    "    for k in range(2*i+1):\n",
    "        print('*',end='')\n",
    "    print()"
   ]
  },
  {
   "cell_type": "markdown",
   "metadata": {
    "id": "LSxDJBY2PiAI"
   },
   "source": [
    "2.停車費"
   ]
  },
  {
   "cell_type": "code",
   "execution_count": 7,
   "metadata": {
    "id": "SjtuwcsbPhl_"
   },
   "outputs": [
    {
     "name": "stdout",
     "output_type": "stream",
     "text": [
      "輸入停車時數:0.02\n",
      "停車費: $ 1.0\n"
     ]
    }
   ],
   "source": [
    "import math\n",
    "\n",
    "t = eval(input(\"輸入停車時數:\"))\n",
    "\n",
    "A = t % 24\n",
    "\n",
    "B = t // 24\n",
    "\n",
    "if B < 1 :\n",
    "    print(\"停車費: $\",t*50)\n",
    "elif A == 0 and B > 0:\n",
    "    print(\"停車費: $\",B*300)\n",
    "elif A > 0 and B > 0:\n",
    "    print(\"停車費: $\",(B+1)*300)\n",
    "else:\n",
    "    print(\"不收費\")"
   ]
  },
  {
   "cell_type": "markdown",
   "metadata": {
    "id": "HQCzDlFDPcy6"
   },
   "source": [
    "3.輸入密碼"
   ]
  },
  {
   "cell_type": "code",
   "execution_count": null,
   "metadata": {
    "colab": {
     "base_uri": "https://localhost:8080/",
     "height": 52
    },
    "id": "pHdTC0NN8AFb",
    "outputId": "0f095242-abd4-48ca-fa5f-1d45e7bd3f25"
   },
   "outputs": [],
   "source": [
    "password = 10799\n",
    "for i in range(1,4):\n",
    "    guess = eval(input('請輸入密碼:'))\n",
    "    if guess > password:\n",
    "        print('再試一次')\n",
    "    elif guess < password:\n",
    "        print('再試一次')\n",
    "    else :\n",
    "        print('密碼正確')\n",
    "        break\n",
    "else:\n",
    "    print('密碼錯誤三次，取消輸入')\n",
    "\n"
   ]
  },
  {
   "cell_type": "markdown",
   "metadata": {
    "id": "U6ddGCM6PsMb"
   },
   "source": [
    "4.小額捐款"
   ]
  },
  {
   "cell_type": "code",
   "execution_count": null,
   "metadata": {
    "id": "m3GndphLPbLN"
   },
   "outputs": [],
   "source": [
    "i = 1\n",
    "donate = eval(input('請輸入捐款金額'))\n",
    "sum1 = 0\n",
    "while donate != 0:\n",
    "    sum1 = sum1 + donate\n",
    "    print('累計',sum1)\n",
    "    i = i + 1\n",
    "    donate = eval(input('請輸入捐款金額'))\n",
    "print('最後總金額為:',sum1)\n",
    "    \n",
    "    \n"
   ]
  },
  {
   "cell_type": "markdown",
   "metadata": {
    "id": "SNGiAPauPxMO"
   },
   "source": [
    "5.銷售額"
   ]
  },
  {
   "cell_type": "code",
   "execution_count": null,
   "metadata": {
    "id": "am_XWsppPbfw"
   },
   "outputs": [],
   "source": [
    "want = eval(input(\"輸入實得薪水:\"))\n",
    "sell = want - 20000\n",
    "\n",
    "if sell > 4000 :\n",
    "    print(\"最低銷售額:\",sell*12.5) # 8%=12.5\n",
    "elif 4000 > sell > 10000 :\n",
    "    print(\"最低銷售額:\",sell*10) \n",
    "else :\n",
    "    print(\"最低銷售額:\",sell*8.333) "
   ]
  },
  {
   "cell_type": "code",
   "execution_count": null,
   "metadata": {},
   "outputs": [],
   "source": []
  }
 ],
 "metadata": {
  "colab": {
   "collapsed_sections": [],
   "name": "homework.ipynb",
   "provenance": []
  },
  "kernelspec": {
   "display_name": "Python 3",
   "language": "python",
   "name": "python3"
  },
  "language_info": {
   "codemirror_mode": {
    "name": "ipython",
    "version": 3
   },
   "file_extension": ".py",
   "mimetype": "text/x-python",
   "name": "python",
   "nbconvert_exporter": "python",
   "pygments_lexer": "ipython3",
   "version": "3.7.6"
  }
 },
 "nbformat": 4,
 "nbformat_minor": 1
}
